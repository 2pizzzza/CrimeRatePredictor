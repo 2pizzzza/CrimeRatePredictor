{
 "cells": [
  {
   "cell_type": "code",
   "id": "initial_id",
   "metadata": {
    "collapsed": true,
    "ExecuteTime": {
     "end_time": "2025-04-05T09:21:10.643670Z",
     "start_time": "2025-04-05T09:21:10.632543Z"
    }
   },
   "source": [
    "import pandas as pd\n",
    "import numpy as np\n",
    "import matplotlib.pyplot as plt\n",
    "import seaborn as sns\n",
    "from sklearn.model_selection import train_test_split\n",
    "from sklearn.preprocessing import StandardScaler, OneHotEncoder\n",
    "from sklearn.compose import ColumnTransformer\n",
    "from sklearn.pipeline import Pipeline\n",
    "from sklearn.ensemble import RandomForestClassifier\n",
    "from sklearn.metrics import classification_report, confusion_matrix\n",
    "import joblib\n",
    "import warnings\n",
    "warnings.filterwarnings('ignore')\n",
    "\n",
    "# Настройки для визуализации\n",
    "pd.set_option('display.max_columns', None)\n",
    "sns.set(style=\"whitegrid\")\n",
    "%matplotlib inline"
   ],
   "outputs": [],
   "execution_count": 119
  },
  {
   "metadata": {
    "ExecuteTime": {
     "end_time": "2025-04-05T09:22:22.480907Z",
     "start_time": "2025-04-05T09:22:22.343353Z"
    }
   },
   "cell_type": "code",
   "source": [
    "# Загрузка агрегированных данных из предоставленного документа\n",
    "data = pd.read_csv('crime_forecast.csv')  # Предполагается, что данные сохранены в CSV\n",
    "print(f\"Данные загружены. Размер датасета: {data.shape}\")\n",
    "print(\"\\nПервые 5 строк:\")\n",
    "display(data.head())"
   ],
   "id": "450a37f9e95d8946",
   "outputs": [
    {
     "name": "stdout",
     "output_type": "stream",
     "text": [
      "Данные загружены. Размер датасета: (126, 10)\n",
      "\n",
      "Первые 5 строк:\n"
     ]
    },
    {
     "data": {
      "text/plain": [
       "     AREA NAME  Year  Month  crime_count        date  prev_month_crimes  \\\n",
       "0  77th Street  2024      1       202.03  2024-01-01             283.00   \n",
       "1  77th Street  2024      2       209.94  2024-02-01             202.03   \n",
       "2  77th Street  2024      3       191.07  2024-03-01             209.94   \n",
       "3  77th Street  2024      4       202.05  2024-04-01             191.07   \n",
       "4  77th Street  2024      5       185.76  2024-05-01             202.05   \n",
       "\n",
       "   prev_2_months_avg  prev_3_months_avg  month_sin     month_cos  \n",
       "0            262.500         260.500000   0.500000  8.660254e-01  \n",
       "1            242.515         249.176667   0.866025  5.000000e-01  \n",
       "2            205.985         218.161667   1.000000  6.123234e-17  \n",
       "3            200.505         202.331667   0.866025 -5.000000e-01  \n",
       "4            196.560         197.875000   0.500000 -8.660254e-01  "
      ],
      "text/html": [
       "<div>\n",
       "<style scoped>\n",
       "    .dataframe tbody tr th:only-of-type {\n",
       "        vertical-align: middle;\n",
       "    }\n",
       "\n",
       "    .dataframe tbody tr th {\n",
       "        vertical-align: top;\n",
       "    }\n",
       "\n",
       "    .dataframe thead th {\n",
       "        text-align: right;\n",
       "    }\n",
       "</style>\n",
       "<table border=\"1\" class=\"dataframe\">\n",
       "  <thead>\n",
       "    <tr style=\"text-align: right;\">\n",
       "      <th></th>\n",
       "      <th>AREA NAME</th>\n",
       "      <th>Year</th>\n",
       "      <th>Month</th>\n",
       "      <th>crime_count</th>\n",
       "      <th>date</th>\n",
       "      <th>prev_month_crimes</th>\n",
       "      <th>prev_2_months_avg</th>\n",
       "      <th>prev_3_months_avg</th>\n",
       "      <th>month_sin</th>\n",
       "      <th>month_cos</th>\n",
       "    </tr>\n",
       "  </thead>\n",
       "  <tbody>\n",
       "    <tr>\n",
       "      <th>0</th>\n",
       "      <td>77th Street</td>\n",
       "      <td>2024</td>\n",
       "      <td>1</td>\n",
       "      <td>202.03</td>\n",
       "      <td>2024-01-01</td>\n",
       "      <td>283.00</td>\n",
       "      <td>262.500</td>\n",
       "      <td>260.500000</td>\n",
       "      <td>0.500000</td>\n",
       "      <td>8.660254e-01</td>\n",
       "    </tr>\n",
       "    <tr>\n",
       "      <th>1</th>\n",
       "      <td>77th Street</td>\n",
       "      <td>2024</td>\n",
       "      <td>2</td>\n",
       "      <td>209.94</td>\n",
       "      <td>2024-02-01</td>\n",
       "      <td>202.03</td>\n",
       "      <td>242.515</td>\n",
       "      <td>249.176667</td>\n",
       "      <td>0.866025</td>\n",
       "      <td>5.000000e-01</td>\n",
       "    </tr>\n",
       "    <tr>\n",
       "      <th>2</th>\n",
       "      <td>77th Street</td>\n",
       "      <td>2024</td>\n",
       "      <td>3</td>\n",
       "      <td>191.07</td>\n",
       "      <td>2024-03-01</td>\n",
       "      <td>209.94</td>\n",
       "      <td>205.985</td>\n",
       "      <td>218.161667</td>\n",
       "      <td>1.000000</td>\n",
       "      <td>6.123234e-17</td>\n",
       "    </tr>\n",
       "    <tr>\n",
       "      <th>3</th>\n",
       "      <td>77th Street</td>\n",
       "      <td>2024</td>\n",
       "      <td>4</td>\n",
       "      <td>202.05</td>\n",
       "      <td>2024-04-01</td>\n",
       "      <td>191.07</td>\n",
       "      <td>200.505</td>\n",
       "      <td>202.331667</td>\n",
       "      <td>0.866025</td>\n",
       "      <td>-5.000000e-01</td>\n",
       "    </tr>\n",
       "    <tr>\n",
       "      <th>4</th>\n",
       "      <td>77th Street</td>\n",
       "      <td>2024</td>\n",
       "      <td>5</td>\n",
       "      <td>185.76</td>\n",
       "      <td>2024-05-01</td>\n",
       "      <td>202.05</td>\n",
       "      <td>196.560</td>\n",
       "      <td>197.875000</td>\n",
       "      <td>0.500000</td>\n",
       "      <td>-8.660254e-01</td>\n",
       "    </tr>\n",
       "  </tbody>\n",
       "</table>\n",
       "</div>"
      ]
     },
     "metadata": {},
     "output_type": "display_data"
    }
   ],
   "execution_count": 123
  },
  {
   "metadata": {
    "ExecuteTime": {
     "end_time": "2025-04-05T09:25:28.442415Z",
     "start_time": "2025-04-05T09:25:22.610865Z"
    }
   },
   "cell_type": "code",
   "source": [
    "# Пример агрегации из исходного датасета (если нужно)\n",
    "df = pd.read_csv('data/data2.csv')  # Замените на ваш путь к файлу\n",
    "invalid_dates = df[~df['DATE OCC'].str.match(r'\\d{2}/\\d{2}/\\d{4} \\d{1,2}:\\d{2}:\\d{2} [APMapm]{2}', na=False)]\n",
    "print(invalid_dates['DATE OCC'])\n",
    "df['DATE OCC'] = pd.to_datetime(df['DATE OCC'], format='%m/%d/%Y %I:%M:%S %p', errors='coerce')\n",
    "df = df.dropna(subset=['DATE OCC'])  # Удалить строки, где дата не распарсилась\n",
    "df['DATE OCC'] = pd.to_datetime(df['DATE OCC'], format='%m/%d/%Y %I:%M:%S %p')\n",
    "df['Year'] = df['DATE OCC'].dt.year\n",
    "df['Month'] = df['DATE OCC'].dt.month\n",
    "crime_aggregated = df.groupby(['AREA NAME', 'Year', 'Month']).size().reset_index(name='crime_count')\n",
    "crime_aggregated['date'] = pd.to_datetime(crime_aggregated[['Year', 'Month']].assign(day=1))\n",
    "data = crime_aggregated.sort_values(['AREA NAME', 'date'])\n",
    "\n",
    "\n"
   ],
   "id": "ae228ad98bac7147",
   "outputs": [
    {
     "name": "stdout",
     "output_type": "stream",
     "text": [
      "698667    09/18/2023 12:00:0{\n",
      "698668                    NaN\n",
      "698669                    NaN\n",
      "698670                    NaN\n",
      "698671                    NaN\n",
      "Name: DATE OCC, dtype: object\n"
     ]
    }
   ],
   "execution_count": 127
  },
  {
   "metadata": {
    "ExecuteTime": {
     "end_time": "2025-04-05T09:25:57.307152Z",
     "start_time": "2025-04-05T09:25:57.260707Z"
    }
   },
   "cell_type": "code",
   "source": [
    "# Создание лаговых признаков\n",
    "data['prev_month_crimes'] = data.groupby('AREA NAME')['crime_count'].shift(1)\n",
    "data['prev_2_months_avg'] = data.groupby('AREA NAME')['crime_count'].shift(1).rolling(window=2, min_periods=1).mean()\n",
    "data['prev_3_months_avg'] = data.groupby('AREA NAME')['crime_count'].shift(1).rolling(window=3, min_periods=1).mean()\n",
    "\n",
    "# Сезонные признаки\n",
    "data['month_sin'] = np.sin(2 * np.pi * data['Month'] / 12)\n",
    "data['month_cos'] = np.cos(2 * np.pi * data['Month'] / 12)\n",
    "\n",
    "# Заполнение пропусков\n",
    "data = data.fillna(0)\n",
    "\n",
    "print(\"\\nДанные с новыми признаками:\")\n",
    "display(data.head())"
   ],
   "id": "be4d4db173421c74",
   "outputs": [
    {
     "name": "stdout",
     "output_type": "stream",
     "text": [
      "\n",
      "Данные с новыми признаками:\n"
     ]
    },
    {
     "data": {
      "text/plain": [
       "     AREA NAME  Year  Month  crime_count       date  prev_month_crimes  \\\n",
       "0  77th Street  2020      1         1304 2020-01-01                0.0   \n",
       "1  77th Street  2020      2         1100 2020-02-01             1304.0   \n",
       "2  77th Street  2020      3         1012 2020-03-01             1100.0   \n",
       "3  77th Street  2020      4         1063 2020-04-01             1012.0   \n",
       "4  77th Street  2020      5         1074 2020-05-01             1063.0   \n",
       "\n",
       "   prev_2_months_avg  prev_3_months_avg  month_sin     month_cos  \n",
       "0                0.0           0.000000   0.500000  8.660254e-01  \n",
       "1             1304.0        1304.000000   0.866025  5.000000e-01  \n",
       "2             1202.0        1202.000000   1.000000  6.123234e-17  \n",
       "3             1056.0        1138.666667   0.866025 -5.000000e-01  \n",
       "4             1037.5        1058.333333   0.500000 -8.660254e-01  "
      ],
      "text/html": [
       "<div>\n",
       "<style scoped>\n",
       "    .dataframe tbody tr th:only-of-type {\n",
       "        vertical-align: middle;\n",
       "    }\n",
       "\n",
       "    .dataframe tbody tr th {\n",
       "        vertical-align: top;\n",
       "    }\n",
       "\n",
       "    .dataframe thead th {\n",
       "        text-align: right;\n",
       "    }\n",
       "</style>\n",
       "<table border=\"1\" class=\"dataframe\">\n",
       "  <thead>\n",
       "    <tr style=\"text-align: right;\">\n",
       "      <th></th>\n",
       "      <th>AREA NAME</th>\n",
       "      <th>Year</th>\n",
       "      <th>Month</th>\n",
       "      <th>crime_count</th>\n",
       "      <th>date</th>\n",
       "      <th>prev_month_crimes</th>\n",
       "      <th>prev_2_months_avg</th>\n",
       "      <th>prev_3_months_avg</th>\n",
       "      <th>month_sin</th>\n",
       "      <th>month_cos</th>\n",
       "    </tr>\n",
       "  </thead>\n",
       "  <tbody>\n",
       "    <tr>\n",
       "      <th>0</th>\n",
       "      <td>77th Street</td>\n",
       "      <td>2020</td>\n",
       "      <td>1</td>\n",
       "      <td>1304</td>\n",
       "      <td>2020-01-01</td>\n",
       "      <td>0.0</td>\n",
       "      <td>0.0</td>\n",
       "      <td>0.000000</td>\n",
       "      <td>0.500000</td>\n",
       "      <td>8.660254e-01</td>\n",
       "    </tr>\n",
       "    <tr>\n",
       "      <th>1</th>\n",
       "      <td>77th Street</td>\n",
       "      <td>2020</td>\n",
       "      <td>2</td>\n",
       "      <td>1100</td>\n",
       "      <td>2020-02-01</td>\n",
       "      <td>1304.0</td>\n",
       "      <td>1304.0</td>\n",
       "      <td>1304.000000</td>\n",
       "      <td>0.866025</td>\n",
       "      <td>5.000000e-01</td>\n",
       "    </tr>\n",
       "    <tr>\n",
       "      <th>2</th>\n",
       "      <td>77th Street</td>\n",
       "      <td>2020</td>\n",
       "      <td>3</td>\n",
       "      <td>1012</td>\n",
       "      <td>2020-03-01</td>\n",
       "      <td>1100.0</td>\n",
       "      <td>1202.0</td>\n",
       "      <td>1202.000000</td>\n",
       "      <td>1.000000</td>\n",
       "      <td>6.123234e-17</td>\n",
       "    </tr>\n",
       "    <tr>\n",
       "      <th>3</th>\n",
       "      <td>77th Street</td>\n",
       "      <td>2020</td>\n",
       "      <td>4</td>\n",
       "      <td>1063</td>\n",
       "      <td>2020-04-01</td>\n",
       "      <td>1012.0</td>\n",
       "      <td>1056.0</td>\n",
       "      <td>1138.666667</td>\n",
       "      <td>0.866025</td>\n",
       "      <td>-5.000000e-01</td>\n",
       "    </tr>\n",
       "    <tr>\n",
       "      <th>4</th>\n",
       "      <td>77th Street</td>\n",
       "      <td>2020</td>\n",
       "      <td>5</td>\n",
       "      <td>1074</td>\n",
       "      <td>2020-05-01</td>\n",
       "      <td>1063.0</td>\n",
       "      <td>1037.5</td>\n",
       "      <td>1058.333333</td>\n",
       "      <td>0.500000</td>\n",
       "      <td>-8.660254e-01</td>\n",
       "    </tr>\n",
       "  </tbody>\n",
       "</table>\n",
       "</div>"
      ]
     },
     "metadata": {},
     "output_type": "display_data"
    }
   ],
   "execution_count": 128
  },
  {
   "metadata": {
    "ExecuteTime": {
     "end_time": "2025-04-05T09:26:06.923769Z",
     "start_time": "2025-04-05T09:26:06.907539Z"
    }
   },
   "cell_type": "code",
   "source": [
    "# Разделение на категории\n",
    "quantiles = data['crime_count'].quantile([0.33, 0.66])\n",
    "data['crime_level'] = pd.cut(data['crime_count'],\n",
    "                             bins=[-np.inf, quantiles[0.33], quantiles[0.66], np.inf],\n",
    "                             labels=['Low', 'Medium', 'High'])\n",
    "\n",
    "print(\"\\nРаспределение классов:\")\n",
    "print(data['crime_level'].value_counts())"
   ],
   "id": "415971a65ef4a240",
   "outputs": [
    {
     "name": "stdout",
     "output_type": "stream",
     "text": [
      "\n",
      "Распределение классов:\n",
      "crime_level\n",
      "High      341\n",
      "Medium    334\n",
      "Low       333\n",
      "Name: count, dtype: int64\n"
     ]
    }
   ],
   "execution_count": 129
  },
  {
   "metadata": {
    "ExecuteTime": {
     "end_time": "2025-04-05T09:26:22.759630Z",
     "start_time": "2025-04-05T09:26:22.747467Z"
    }
   },
   "cell_type": "code",
   "source": [
    "features = ['Year', 'Month', 'month_sin', 'month_cos', 'prev_month_crimes', \n",
    "            'prev_2_months_avg', 'prev_3_months_avg']\n",
    "X = data[features + ['AREA NAME']]\n",
    "y = data['crime_level']\n",
    "\n",
    "# Разделение данных\n",
    "train_idx = int(len(data) * 0.7)\n",
    "val_idx = int(len(data) * 0.85)\n",
    "\n",
    "X_train = X.iloc[:train_idx]\n",
    "y_train = y.iloc[:train_idx]\n",
    "X_val = X.iloc[train_idx:val_idx]\n",
    "y_val = y.iloc[train_idx:val_idx]\n",
    "X_test = X.iloc[val_idx:]\n",
    "y_test = y.iloc[val_idx:]\n",
    "\n",
    "print(f\"Размеры выборок: Train: {X_train.shape}, Val: {X_val.shape}, Test: {X_test.shape}\")"
   ],
   "id": "94a50463e86a372b",
   "outputs": [
    {
     "name": "stdout",
     "output_type": "stream",
     "text": [
      "Размеры выборок: Train: (705, 8), Val: (151, 8), Test: (152, 8)\n"
     ]
    }
   ],
   "execution_count": 130
  },
  {
   "metadata": {
    "ExecuteTime": {
     "end_time": "2025-04-05T09:26:35.796336Z",
     "start_time": "2025-04-05T09:26:35.388646Z"
    }
   },
   "cell_type": "code",
   "source": [
    "# Определение числовых и категориальных колонок\n",
    "numeric_features = features\n",
    "categorical_features = ['AREA NAME']\n",
    "\n",
    "# Создание препроцессора\n",
    "preprocessor = ColumnTransformer(\n",
    "    transformers=[\n",
    "        ('num', StandardScaler(), numeric_features),\n",
    "        ('cat', OneHotEncoder(sparse_output=False, handle_unknown='ignore'), categorical_features)\n",
    "    ])\n",
    "\n",
    "# Создание пайплайна с RandomForestClassifier\n",
    "pipeline = Pipeline(steps=[\n",
    "    ('preprocessor', preprocessor),\n",
    "    ('classifier', RandomForestClassifier(n_estimators=100, random_state=42))\n",
    "])\n",
    "\n",
    "# Обучение модели\n",
    "pipeline.fit(X_train, y_train)\n",
    "\n",
    "print(\"Модель обучена!\")"
   ],
   "id": "7d4b31728cff53c0",
   "outputs": [
    {
     "name": "stdout",
     "output_type": "stream",
     "text": [
      "Модель обучена!\n"
     ]
    }
   ],
   "execution_count": 131
  },
  {
   "metadata": {
    "ExecuteTime": {
     "end_time": "2025-04-05T09:26:49.338633Z",
     "start_time": "2025-04-05T09:26:48.682942Z"
    }
   },
   "cell_type": "code",
   "source": [
    "# Предсказания на валидационной выборке\n",
    "y_val_pred = pipeline.predict(X_val)\n",
    "print(\"\\nРезультаты на валидационной выборке:\")\n",
    "print(classification_report(y_val, y_val_pred))\n",
    "\n",
    "# Визуализация матрицы ошибок\n",
    "plt.figure(figsize=(8, 6))\n",
    "sns.heatmap(confusion_matrix(y_val, y_val_pred), annot=True, fmt='d', cmap='Blues')\n",
    "plt.title('Матрица ошибок (валидация)')\n",
    "plt.xlabel('Предсказанный класс')\n",
    "plt.ylabel('Истинный класс')\n",
    "plt.show()\n",
    "\n",
    "# Предсказания на тестовой выборке\n",
    "y_test_pred = pipeline.predict(X_test)\n",
    "print(\"\\nРезультаты на тестовой выборке:\")\n",
    "print(classification_report(y_test, y_test_pred))"
   ],
   "id": "74b005228936eafe",
   "outputs": [
    {
     "name": "stdout",
     "output_type": "stream",
     "text": [
      "\n",
      "Результаты на валидационной выборке:\n",
      "              precision    recall  f1-score   support\n",
      "\n",
      "        High       0.93      0.84      0.88        45\n",
      "         Low       0.96      0.96      0.96        47\n",
      "      Medium       0.86      0.92      0.89        59\n",
      "\n",
      "    accuracy                           0.91       151\n",
      "   macro avg       0.91      0.91      0.91       151\n",
      "weighted avg       0.91      0.91      0.91       151\n",
      "\n"
     ]
    },
    {
     "data": {
      "text/plain": [
       "<Figure size 800x600 with 2 Axes>"
      ],
      "image/png": "[encoded data removed]"
     },
     "metadata": {},
     "output_type": "display_data"
    },
    {
     "name": "stdout",
     "output_type": "stream",
     "text": [
      "\n",
      "Результаты на тестовой выборке:\n",
      "              precision    recall  f1-score   support\n",
      "\n",
      "        High       0.83      0.71      0.76        41\n",
      "         Low       0.98      0.88      0.92        56\n",
      "      Medium       0.72      0.87      0.79        55\n",
      "\n",
      "    accuracy                           0.83       152\n",
      "   macro avg       0.84      0.82      0.82       152\n",
      "weighted avg       0.84      0.83      0.83       152\n",
      "\n"
     ]
    }
   ],
   "execution_count": 132
  },
  {
   "metadata": {
    "ExecuteTime": {
     "end_time": "2025-04-05T09:27:03.628341Z",
     "start_time": "2025-04-05T09:27:03.542621Z"
    }
   },
   "cell_type": "code",
   "source": [
    "# Сохранение модели\n",
    "joblib.dump(pipeline, 'crime_level_classifier.pkl')\n",
    "print(\"Модель сохранена в 'crime_level_classifier.pkl'\")"
   ],
   "id": "75e2efb996f92d6a",
   "outputs": [
    {
     "name": "stdout",
     "output_type": "stream",
     "text": [
      "Модель сохранена в 'crime_level_classifier.pkl'\n"
     ]
    }
   ],
   "execution_count": 133
  },
  {
   "metadata": {
    "ExecuteTime": {
     "end_time": "2025-04-05T09:27:24.112897Z",
     "start_time": "2025-04-05T09:27:24.003177Z"
    }
   },
   "cell_type": "code",
   "source": [
    "def predict_crime_level(new_data, model_path='crime_level_classifier.pkl'):\n",
    "    \"\"\"\n",
    "    Предсказывает уровень криминогенности для новых данных.\n",
    "    \n",
    "    Args:\n",
    "        new_data (pd.DataFrame): Данные с колонками ['AREA NAME', 'Year', 'Month', \n",
    "                                 'prev_month_crimes', 'prev_2_months_avg', 'prev_3_months_avg']\n",
    "        model_path (str): Путь к сохраненной модели\n",
    "    \n",
    "    Returns:\n",
    "        np.array: Предсказанные классы ('Low', 'Medium', 'High')\n",
    "    \"\"\"\n",
    "    # Загрузка модели\n",
    "    model = joblib.load(model_path)\n",
    "    \n",
    "    # Добавление сезонных признаков\n",
    "    new_data['month_sin'] = np.sin(2 * np.pi * new_data['Month'] / 12)\n",
    "    new_data['month_cos'] = np.cos(2 * np.pi * new_data['Month'] / 12)\n",
    "    \n",
    "    # Проверка наличия всех необходимых колонок\n",
    "    required_cols = features + ['AREA NAME']\n",
    "    if not all(col in new_data.columns for col in required_cols):\n",
    "        raise ValueError(f\"В данных отсутствуют необходимые колонки: {required_cols}\")\n",
    "    \n",
    "    # Предсказание\n",
    "    predictions = model.predict(new_data[required_cols])\n",
    "    return predictions\n",
    "\n",
    "# Пример использования\n",
    "new_data_example = pd.DataFrame({\n",
    "    'AREA NAME': ['Central', 'Hollywood'],\n",
    "    'Year': [2024, 2024],\n",
    "    'Month': [7, 7],\n",
    "    'prev_month_crimes': [287.43, 194.15],\n",
    "    'prev_2_months_avg': [284.925, 202.51],\n",
    "    'prev_3_months_avg': [284.201, 202.705]\n",
    "})\n",
    "\n",
    "predictions = predict_crime_level(new_data_example)\n",
    "print(\"\\nПример предсказаний:\")\n",
    "for area, pred in zip(new_data_example['AREA NAME'], predictions):\n",
    "    print(f\"{area}: {pred}\")"
   ],
   "id": "e686c993adb6c514",
   "outputs": [
    {
     "name": "stdout",
     "output_type": "stream",
     "text": [
      "\n",
      "Пример предсказаний:\n",
      "Central: Low\n",
      "Hollywood: Low\n"
     ]
    }
   ],
   "execution_count": 134
  },
  {
   "metadata": {
    "ExecuteTime": {
     "end_time": "2025-04-05T09:27:39.848419Z",
     "start_time": "2025-04-05T09:27:39.375802Z"
    }
   },
   "cell_type": "code",
   "source": [
    "# Извлечение важности признаков\n",
    "feature_importances = pipeline.named_steps['classifier'].feature_importances_\n",
    "feature_names = (numeric_features + \n",
    "                 pipeline.named_steps['preprocessor']\n",
    "                 .named_transformers_['cat']\n",
    "                 .get_feature_names_out(categorical_features).tolist())\n",
    "\n",
    "# Создание DataFrame с важностью\n",
    "importance_df = pd.DataFrame({'Feature': feature_names, 'Importance': feature_importances})\n",
    "importance_df = importance_df.sort_values('Importance', ascending=False).head(10)\n",
    "\n",
    "# Визуализация\n",
    "plt.figure(figsize=(10, 6))\n",
    "sns.barplot(x='Importance', y='Feature', data=importance_df)\n",
    "plt.title('Топ-10 важных признаков')\n",
    "plt.xlabel('Важность')\n",
    "plt.tight_layout()\n",
    "plt.show()"
   ],
   "id": "ef2781134ad6e558",
   "outputs": [
    {
     "data": {
      "text/plain": [
       "<Figure size 1000x600 with 1 Axes>"
      ],
      "image/png": "[encoded data removed]"
     },
     "metadata": {},
     "output_type": "display_data"
    }
   ],
   "execution_count": 135
  },
  {
   "metadata": {
    "ExecuteTime": {
     "end_time": "2025-04-05T09:29:23.160976Z",
     "start_time": "2025-04-05T09:29:22.800781Z"
    }
   },
   "cell_type": "code",
   "source": [
    "import matplotlib.pyplot as plt\n",
    "import seaborn as sns\n",
    "from sklearn.metrics import classification_report, confusion_matrix, accuracy_score, f1_score\n",
    "\n",
    "y_test_pred = pipeline.predict(X_test)\n",
    "\n",
    "accuracy = accuracy_score(y_test, y_test_pred)\n",
    "print(f\"Точность (Accuracy): {accuracy:.2f}\")\n",
    "\n",
    "print(\"\\nПодробный отчет по метрикам:\")\n",
    "print(classification_report(y_test, y_test_pred))\n",
    "\n",
    "conf_matrix = confusion_matrix(y_test, y_test_pred)\n",
    "plt.figure(figsize=(8, 6))\n",
    "sns.heatmap(conf_matrix, annot=True, fmt='d', cmap='Blues', \n",
    "            xticklabels=['Low', 'Medium', 'High'], yticklabels=['Low', 'Medium', 'High'])\n",
    "plt.title('Матрица ошибок')\n",
    "plt.xlabel('Предсказанный класс')\n",
    "plt.ylabel('Истинный класс')\n",
    "plt.show()\n",
    "\n",
    "weighted_f1 = f1_score(y_test, y_test_pred, average='weighted')\n",
    "macro_f1 = f1_score(y_test, y_test_pred, average='macro')\n",
    "print(f\"Weighted F1-score: {weighted_f1:.2f}\")\n",
    "print(f\"Macro F1-score: {macro_f1:.2f}\")"
   ],
   "id": "db6f0e03a9be3b67",
   "outputs": [
    {
     "name": "stdout",
     "output_type": "stream",
     "text": [
      "Точность (Accuracy): 0.83\n",
      "\n",
      "Подробный отчет по метрикам:\n",
      "              precision    recall  f1-score   support\n",
      "\n",
      "        High       0.83      0.71      0.76        41\n",
      "         Low       0.98      0.88      0.92        56\n",
      "      Medium       0.72      0.87      0.79        55\n",
      "\n",
      "    accuracy                           0.83       152\n",
      "   macro avg       0.84      0.82      0.82       152\n",
      "weighted avg       0.84      0.83      0.83       152\n",
      "\n"
     ]
    },
    {
     "data": {
      "text/plain": [
       "<Figure size 800x600 with 2 Axes>"
      ],
      "image/png": "[encoded data removed]"
     },
     "metadata": {},
     "output_type": "display_data"
    },
    {
     "name": "stdout",
     "output_type": "stream",
     "text": [
      "Weighted F1-score: 0.83\n",
      "Macro F1-score: 0.82\n"
     ]
    }
   ],
   "execution_count": 136
  }
 ],
 "metadata": {
  "kernelspec": {
   "display_name": "Python 3",
   "language": "python",
   "name": "python3"
  },
  "language_info": {
   "codemirror_mode": {
    "name": "ipython",
    "version": 2
   },
   "file_extension": ".py",
   "mimetype": "text/x-python",
   "name": "python",
   "nbconvert_exporter": "python",
   "pygments_lexer": "ipython2",
   "version": "2.7.6"
  }
 },
 "nbformat": 4,
 "nbformat_minor": 5
}
